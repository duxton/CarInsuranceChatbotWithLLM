{
 "cells": [
  {
   "cell_type": "code",
   "execution_count": 20,
   "metadata": {},
   "outputs": [],
   "source": [
    "import pandas as pd\n",
    "import matplotlib.pyplot as plt \n",
    "import seaborn as sns"
   ]
  },
  {
   "cell_type": "code",
   "execution_count": 7,
   "metadata": {},
   "outputs": [],
   "source": [
    "carData = pd.read_csv(\"testData.csv\")"
   ]
  },
  {
   "cell_type": "code",
   "execution_count": 5,
   "metadata": {},
   "outputs": [
    {
     "data": {
      "text/html": [
       "<div>\n",
       "<style scoped>\n",
       "    .dataframe tbody tr th:only-of-type {\n",
       "        vertical-align: middle;\n",
       "    }\n",
       "\n",
       "    .dataframe tbody tr th {\n",
       "        vertical-align: top;\n",
       "    }\n",
       "\n",
       "    .dataframe thead th {\n",
       "        text-align: right;\n",
       "    }\n",
       "</style>\n",
       "<table border=\"1\" class=\"dataframe\">\n",
       "  <thead>\n",
       "    <tr style=\"text-align: right;\">\n",
       "      <th></th>\n",
       "      <th>prompt</th>\n",
       "      <th>completion</th>\n",
       "    </tr>\n",
       "  </thead>\n",
       "  <tbody>\n",
       "    <tr>\n",
       "      <th>0</th>\n",
       "      <td>What is PrOmilej?</td>\n",
       "      <td>Our PrOmilej offers all the benefits of Compre...</td>\n",
       "    </tr>\n",
       "    <tr>\n",
       "      <th>1</th>\n",
       "      <td>How many PrOmilej Plans are there?</td>\n",
       "      <td>There are 3 Plans available for you to choose:...</td>\n",
       "    </tr>\n",
       "    <tr>\n",
       "      <th>2</th>\n",
       "      <td>What is the premium to be saved compared to a ...</td>\n",
       "      <td>You will save between 10% to 40% on your basic...</td>\n",
       "    </tr>\n",
       "    <tr>\n",
       "      <th>3</th>\n",
       "      <td>How can I purchase PrOmilej?</td>\n",
       "      <td>You can purchase PrOmilej by using our mobile ...</td>\n",
       "    </tr>\n",
       "    <tr>\n",
       "      <th>4</th>\n",
       "      <td>Do I also get my NCD Discount if I buy a PrOmi...</td>\n",
       "      <td>Yes, you will still be entitled to your NCD Di...</td>\n",
       "    </tr>\n",
       "    <tr>\n",
       "      <th>5</th>\n",
       "      <td>Can I switch to PrOmilej if I already have a P...</td>\n",
       "      <td>Yes, however you should take note of whether i...</td>\n",
       "    </tr>\n",
       "    <tr>\n",
       "      <th>6</th>\n",
       "      <td>How do I submit my odometer reading if I would...</td>\n",
       "      <td>You have to submit a photo of your odometer re...</td>\n",
       "    </tr>\n",
       "    <tr>\n",
       "      <th>7</th>\n",
       "      <td>Can I purchase PrOmilej without submitting the...</td>\n",
       "      <td>No. You have to submit a valid odometer mileag...</td>\n",
       "    </tr>\n",
       "    <tr>\n",
       "      <th>8</th>\n",
       "      <td>What happens if I exceed my allocated mileage?</td>\n",
       "      <td>If you have exceeded your allocated mileage an...</td>\n",
       "    </tr>\n",
       "    <tr>\n",
       "      <th>9</th>\n",
       "      <td>. How much is the Top Up required to enjoy the...</td>\n",
       "      <td>The Top Up premium charged is the difference i...</td>\n",
       "    </tr>\n",
       "    <tr>\n",
       "      <th>10</th>\n",
       "      <td>. What is Grace Mileage?</td>\n",
       "      <td>Additional 500km is provided to you if you exc...</td>\n",
       "    </tr>\n",
       "    <tr>\n",
       "      <th>11</th>\n",
       "      <td>What happens if I exceed my allocated mileage ...</td>\n",
       "      <td>If you have exceeded your allocated mileage an...</td>\n",
       "    </tr>\n",
       "    <tr>\n",
       "      <th>12</th>\n",
       "      <td>Can I change my chosen mileage cover range?</td>\n",
       "      <td>Once cover has started, you can top up to the ...</td>\n",
       "    </tr>\n",
       "    <tr>\n",
       "      <th>13</th>\n",
       "      <td>Can I get a refund on my unused mileage?</td>\n",
       "      <td>No, there will be no refund or carry over of y...</td>\n",
       "    </tr>\n",
       "    <tr>\n",
       "      <th>14</th>\n",
       "      <td>What should I be responsible for?</td>\n",
       "      <td>Providing an accurate odometer photo and odome...</td>\n",
       "    </tr>\n",
       "    <tr>\n",
       "      <th>15</th>\n",
       "      <td>Am I still entitled to my commission rebate if...</td>\n",
       "      <td>Yes</td>\n",
       "    </tr>\n",
       "    <tr>\n",
       "      <th>16</th>\n",
       "      <td>Why am I receiving calls from Pacific Orient I...</td>\n",
       "      <td>We will contact you within 14 days after you p...</td>\n",
       "    </tr>\n",
       "    <tr>\n",
       "      <th>17</th>\n",
       "      <td>What is the eligible age limit for car to buy ...</td>\n",
       "      <td>Vehicle Age up to 20 is allowed to buy PrOmile...</td>\n",
       "    </tr>\n",
       "    <tr>\n",
       "      <th>18</th>\n",
       "      <td>Do I need to install a device in my car in ord...</td>\n",
       "      <td>There will not be any device installed on your...</td>\n",
       "    </tr>\n",
       "    <tr>\n",
       "      <th>19</th>\n",
       "      <td>Can I top-up the plan after exceeding my milea...</td>\n",
       "      <td>Yes you can. However, you should try to ensure...</td>\n",
       "    </tr>\n",
       "    <tr>\n",
       "      <th>20</th>\n",
       "      <td>Can I resubmit my odometer reading if I purcha...</td>\n",
       "      <td>If you purchase PrOmilej before your insurance...</td>\n",
       "    </tr>\n",
       "    <tr>\n",
       "      <th>21</th>\n",
       "      <td>Can I buy flood or windscreen cover if I purch...</td>\n",
       "      <td>Yes. You can buy the flood or windscreen cover...</td>\n",
       "    </tr>\n",
       "    <tr>\n",
       "      <th>22</th>\n",
       "      <td>Can I purchase e-hailing (add-on) with PrOmilej?</td>\n",
       "      <td>No</td>\n",
       "    </tr>\n",
       "  </tbody>\n",
       "</table>\n",
       "</div>"
      ],
      "text/plain": [
       "                                               prompt  \\\n",
       "0                                   What is PrOmilej?   \n",
       "1                  How many PrOmilej Plans are there?   \n",
       "2   What is the premium to be saved compared to a ...   \n",
       "3                        How can I purchase PrOmilej?   \n",
       "4   Do I also get my NCD Discount if I buy a PrOmi...   \n",
       "5   Can I switch to PrOmilej if I already have a P...   \n",
       "6   How do I submit my odometer reading if I would...   \n",
       "7   Can I purchase PrOmilej without submitting the...   \n",
       "8      What happens if I exceed my allocated mileage?   \n",
       "9   . How much is the Top Up required to enjoy the...   \n",
       "10                           . What is Grace Mileage?   \n",
       "11  What happens if I exceed my allocated mileage ...   \n",
       "12        Can I change my chosen mileage cover range?   \n",
       "13           Can I get a refund on my unused mileage?   \n",
       "14                  What should I be responsible for?   \n",
       "15  Am I still entitled to my commission rebate if...   \n",
       "16  Why am I receiving calls from Pacific Orient I...   \n",
       "17  What is the eligible age limit for car to buy ...   \n",
       "18  Do I need to install a device in my car in ord...   \n",
       "19  Can I top-up the plan after exceeding my milea...   \n",
       "20  Can I resubmit my odometer reading if I purcha...   \n",
       "21  Can I buy flood or windscreen cover if I purch...   \n",
       "22   Can I purchase e-hailing (add-on) with PrOmilej?   \n",
       "\n",
       "                                           completion  \n",
       "0   Our PrOmilej offers all the benefits of Compre...  \n",
       "1   There are 3 Plans available for you to choose:...  \n",
       "2   You will save between 10% to 40% on your basic...  \n",
       "3   You can purchase PrOmilej by using our mobile ...  \n",
       "4   Yes, you will still be entitled to your NCD Di...  \n",
       "5   Yes, however you should take note of whether i...  \n",
       "6   You have to submit a photo of your odometer re...  \n",
       "7   No. You have to submit a valid odometer mileag...  \n",
       "8   If you have exceeded your allocated mileage an...  \n",
       "9   The Top Up premium charged is the difference i...  \n",
       "10  Additional 500km is provided to you if you exc...  \n",
       "11  If you have exceeded your allocated mileage an...  \n",
       "12  Once cover has started, you can top up to the ...  \n",
       "13  No, there will be no refund or carry over of y...  \n",
       "14  Providing an accurate odometer photo and odome...  \n",
       "15                                                Yes  \n",
       "16  We will contact you within 14 days after you p...  \n",
       "17  Vehicle Age up to 20 is allowed to buy PrOmile...  \n",
       "18  There will not be any device installed on your...  \n",
       "19  Yes you can. However, you should try to ensure...  \n",
       "20  If you purchase PrOmilej before your insurance...  \n",
       "21  Yes. You can buy the flood or windscreen cover...  \n",
       "22                                                 No  "
      ]
     },
     "execution_count": 5,
     "metadata": {},
     "output_type": "execute_result"
    }
   ],
   "source": [
    "FAQData = pd.read_csv(\"C:/Users/duxton.lim/OneDrive - P & O Global Technologies Sdn. Bhd/Documents/Python Code/PromilejFAQ.csv\")\n",
    "FAQData"
   ]
  },
  {
   "cell_type": "code",
   "execution_count": 9,
   "metadata": {},
   "outputs": [
    {
     "data": {
      "text/plain": [
       "make               0\n",
       "model              0\n",
       "year               0\n",
       "ncd                0\n",
       "promilej 5000km    0\n",
       "comprehensive      0\n",
       "dtype: int64"
      ]
     },
     "execution_count": 9,
     "metadata": {},
     "output_type": "execute_result"
    }
   ],
   "source": [
    "carData.isnull().sum()"
   ]
  },
  {
   "cell_type": "code",
   "execution_count": 10,
   "metadata": {},
   "outputs": [
    {
     "data": {
      "text/plain": [
       "prompt        0\n",
       "completion    0\n",
       "dtype: int64"
      ]
     },
     "execution_count": 10,
     "metadata": {},
     "output_type": "execute_result"
    }
   ],
   "source": [
    "FAQData.isnull().sum()"
   ]
  },
  {
   "cell_type": "code",
   "execution_count": 11,
   "metadata": {},
   "outputs": [
    {
     "name": "stdout",
     "output_type": "stream",
     "text": [
      "<class 'pandas.core.frame.DataFrame'>\n",
      "RangeIndex: 100 entries, 0 to 99\n",
      "Data columns (total 6 columns):\n",
      " #   Column           Non-Null Count  Dtype \n",
      "---  ------           --------------  ----- \n",
      " 0   make             100 non-null    object\n",
      " 1   model            100 non-null    object\n",
      " 2   year             100 non-null    int64 \n",
      " 3   ncd              100 non-null    object\n",
      " 4   promilej 5000km  100 non-null    int64 \n",
      " 5   comprehensive    100 non-null    int64 \n",
      "dtypes: int64(3), object(3)\n",
      "memory usage: 4.8+ KB\n"
     ]
    }
   ],
   "source": [
    "carData.info()"
   ]
  },
  {
   "cell_type": "code",
   "execution_count": 12,
   "metadata": {},
   "outputs": [
    {
     "name": "stdout",
     "output_type": "stream",
     "text": [
      "<class 'pandas.core.frame.DataFrame'>\n",
      "RangeIndex: 23 entries, 0 to 22\n",
      "Data columns (total 2 columns):\n",
      " #   Column      Non-Null Count  Dtype \n",
      "---  ------      --------------  ----- \n",
      " 0   prompt      23 non-null     object\n",
      " 1   completion  23 non-null     object\n",
      "dtypes: object(2)\n",
      "memory usage: 500.0+ bytes\n"
     ]
    }
   ],
   "source": [
    "FAQData.info()"
   ]
  }
 ],
 "metadata": {
  "kernelspec": {
   "display_name": "Python 3",
   "language": "python",
   "name": "python3"
  },
  "language_info": {
   "codemirror_mode": {
    "name": "ipython",
    "version": 3
   },
   "file_extension": ".py",
   "mimetype": "text/x-python",
   "name": "python",
   "nbconvert_exporter": "python",
   "pygments_lexer": "ipython3",
   "version": "3.11.3"
  },
  "orig_nbformat": 4
 },
 "nbformat": 4,
 "nbformat_minor": 2
}
